{
 "cells": [
  {
   "cell_type": "markdown",
   "metadata": {},
   "source": [
    "* 這是一本不需要機器學習國人工智慧知識就可以使用的入門書，本書專注使用 Python 與 scikit-lear 函式庫，並且會詳細解說創造成功的機器學習應用程式所需要的步驟。\n",
    "\n",
    "* 這裡儘量不談到太多的數學，而是專注於機器學習演算法的實際用途方面。儘管數學(更準確的說，是機率理論)是機器學習得以建立的機礎，但是我們不會太過深入在演算法的分析，而是專注於介紹如何使用>    在 scikit-learn 與其他函式庫中已有的大量模組。"
   ]
  },
  {
   "cell_type": "code",
   "execution_count": null,
   "metadata": {},
   "outputs": [],
   "source": []
  }
 ],
 "metadata": {
  "kernelspec": {
   "display_name": "Python 3",
   "language": "python",
   "name": "python3"
  },
  "language_info": {
   "codemirror_mode": {
    "name": "ipython",
    "version": 3
   },
   "file_extension": ".py",
   "mimetype": "text/x-python",
   "name": "python",
   "nbconvert_exporter": "python",
   "pygments_lexer": "ipython3",
   "version": "3.6.4"
  }
 },
 "nbformat": 4,
 "nbformat_minor": 2
}
